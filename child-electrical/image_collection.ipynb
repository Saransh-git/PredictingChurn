{
  "nbformat": 4,
  "nbformat_minor": 0,
  "metadata": {
    "colab": {
      "name": "image_collection.ipynb",
      "version": "0.3.2",
      "provenance": [],
      "collapsed_sections": [],
      "include_colab_link": true
    },
    "kernelspec": {
      "name": "python3",
      "display_name": "Python 3"
    },
    "accelerator": "GPU"
  },
  "cells": [
    {
      "cell_type": "markdown",
      "metadata": {
        "id": "view-in-github",
        "colab_type": "text"
      },
      "source": [
        "<a href=\"https://colab.research.google.com/github/Saransh-git/PredictingChurn/blob/master/child-electrical/image_collection.ipynb\" target=\"_parent\"><img src=\"https://colab.research.google.com/assets/colab-badge.svg\" alt=\"Open In Colab\"/></a>"
      ]
    },
    {
      "cell_type": "code",
      "metadata": {
        "id": "4SQv2b-rLz2D",
        "colab_type": "code",
        "colab": {}
      },
      "source": [
        "%reload_ext autoreload\n",
        "%autoreload 2\n",
        "%matplotlib inline"
      ],
      "execution_count": 0,
      "outputs": []
    },
    {
      "cell_type": "code",
      "metadata": {
        "id": "jsFHyRwxMVRF",
        "colab_type": "code",
        "colab": {}
      },
      "source": [
        "%%capture\n",
        "# to hide output for this cell\n",
        "!pip install --upgrade fastai;  # upgrade fast.ai\n",
        "!pip install azure-cognitiveservices-search-imagesearch;  # for bing search"
      ],
      "execution_count": 0,
      "outputs": []
    },
    {
      "cell_type": "code",
      "metadata": {
        "id": "1Odrkvd8MYCB",
        "colab_type": "code",
        "colab": {}
      },
      "source": [
        "from fastai.vision import *\n",
        "from fastai.metrics import error_rate\n",
        "from pathlib import Path\n",
        "from azure.cognitiveservices.search.imagesearch import ImageSearchAPI\n",
        "from msrest.authentication import CognitiveServicesCredentials"
      ],
      "execution_count": 0,
      "outputs": []
    },
    {
      "cell_type": "code",
      "metadata": {
        "id": "JLgG7hbkMaP0",
        "colab_type": "code",
        "colab": {}
      },
      "source": [
        "subscription_key=\"**\""
      ],
      "execution_count": 0,
      "outputs": []
    },
    {
      "cell_type": "code",
      "metadata": {
        "id": "zSOL1KmbMc0E",
        "colab_type": "code",
        "colab": {}
      },
      "source": [
        "client = ImageSearchAPI(CognitiveServicesCredentials(subscription_key))  # Client to connect to bing image API\n",
        "search_term=\"unsafe power cords on floor\" # image search term\n",
        "unsafe_cords = set()  # list to store all the search results\n",
        "# Note: We ain't downloading any image here\n",
        "offset = 0\n",
        "total_result_count: int = 1\n",
        "while offset<=total_result_count:\n",
        "  image_results = client.images.search(query=search_term, offset=offset)  # Offset for paginated response\n",
        "  if not offset:\n",
        "    total_result_count = image_results.total_estimated_matches\n",
        "  \n",
        "  if not image_results.value:\n",
        "    break\n",
        "  offset = image_results.next_offset\n",
        "  content_urls = list(map(lambda r: r.content_url, image_results.value))\n",
        "  unsafe_cords = unsafe_cords.union(content_urls)"
      ],
      "execution_count": 0,
      "outputs": []
    },
    {
      "cell_type": "code",
      "metadata": {
        "id": "p9ZcHbc9MfYI",
        "colab_type": "code",
        "colab": {}
      },
      "source": [
        "search_term=\"cord covers for floor\" # image search term\n",
        "safe_cords = set()  # list to store all the search results\n",
        "# Note: We ain't downloading any image here\n",
        "offset = 0\n",
        "total_result_count: int = 1\n",
        "while offset<=total_result_count:\n",
        "  image_results = client.images.search(query=search_term, offset=offset)  # Offset for paginated response\n",
        "  if not offset:\n",
        "    total_result_count = image_results.total_estimated_matches\n",
        "  \n",
        "  if not image_results.value:\n",
        "    break\n",
        "  offset = image_results.next_offset\n",
        "  content_urls = list(map(lambda r: r.content_url, image_results.value))\n",
        "  safe_cords = safe_cords.union(content_urls)"
      ],
      "execution_count": 0,
      "outputs": []
    },
    {
      "cell_type": "code",
      "metadata": {
        "id": "XoeLNgOW9DZp",
        "colab_type": "code",
        "colab": {
          "base_uri": "https://localhost:8080/",
          "height": 122
        },
        "outputId": "338c1d03-952a-4be1-e30a-dcb8d2bbc7b3"
      },
      "source": [
        "# mount the drive \n",
        "from google.colab import drive\n",
        "\n",
        "drive.mount('/content/gdrive',force_remount=True)"
      ],
      "execution_count": 14,
      "outputs": [
        {
          "output_type": "stream",
          "text": [
            "Go to this URL in a browser: https://accounts.google.com/o/oauth2/auth?client_id=947318989803-6bn6qk8qdgf4n4g3pfee6491hc0brc4i.apps.googleusercontent.com&redirect_uri=urn%3Aietf%3Awg%3Aoauth%3A2.0%3Aoob&scope=email%20https%3A%2F%2Fwww.googleapis.com%2Fauth%2Fdocs.test%20https%3A%2F%2Fwww.googleapis.com%2Fauth%2Fdrive%20https%3A%2F%2Fwww.googleapis.com%2Fauth%2Fdrive.photos.readonly%20https%3A%2F%2Fwww.googleapis.com%2Fauth%2Fpeopleapi.readonly&response_type=code\n",
            "\n",
            "Enter your authorization code:\n",
            "··········\n",
            "Mounted at /content/gdrive\n"
          ],
          "name": "stdout"
        }
      ]
    },
    {
      "cell_type": "code",
      "metadata": {
        "id": "q3AkGcqv9TR8",
        "colab_type": "code",
        "colab": {}
      },
      "source": [
        "with open('/content/gdrive/Shared drives/Fellowship.ai Chicago/urls/dangerous/unsafe_cords.txt', mode='w') as f:\n",
        "  f.writelines(unsafe_cords)"
      ],
      "execution_count": 0,
      "outputs": []
    },
    {
      "cell_type": "code",
      "metadata": {
        "id": "dwFW8CWi-vi2",
        "colab_type": "code",
        "colab": {}
      },
      "source": [
        "with open('/content/gdrive/Shared drives/Fellowship.ai Chicago/urls/safe/safe_cords.txt', mode='w') as f:\n",
        "  f.writelines(safe_cords)"
      ],
      "execution_count": 0,
      "outputs": []
    }
  ]
}